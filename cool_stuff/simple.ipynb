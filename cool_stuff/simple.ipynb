{
  "nbformat": 4,
  "nbformat_minor": 0,
  "metadata": {
    "colab": {
      "provenance": []
    },
    "kernelspec": {
      "name": "python3",
      "display_name": "Python 3"
    },
    "language_info": {
      "name": "python"
    }
  },
  "cells": [
    {
      "cell_type": "markdown",
      "source": [
        "# Regression: Simple Linear and multiple Regressions"
      ],
      "metadata": {
        "id": "TKbxAWpjjnz3"
      }
    },
    {
      "cell_type": "markdown",
      "source": [
        "In this notebook we will use data on house sales in King County that was sourced from Kaggle to predict house prices using simple (one input) linear regression. You will:\n",
        "* Use pandas functions to compute important summary statistics\n",
        "* Write a function to compute the Simple Linear Regression weights using the closed form solution\n",
        "* Write a function to make predictions of the output given the input feature\n",
        "* Compare two different models for predicting house prices\n",
        "\n",
        "In this notebook you will be provided with some already complete code as well as some code that you should complete yourself in order to answer quiz questions. The code we provide to complete is optional and is there to assist you with solving the problems but feel free to ignore the helper code and write your own."
      ],
      "metadata": {
        "id": "-Vy2FQ4zjwBh"
      }
    },
    {
      "cell_type": "markdown",
      "source": [
        "# Import libraries"
      ],
      "metadata": {
        "id": "n6ev4tv-j1ac"
      }
    },
    {
      "cell_type": "code",
      "source": [
        "#importing numpy and pandas, seaborn\n",
        "\n",
        "import numpy as np #linear algebra\n",
        "import pandas as pd #data preprocessing, CSV file I/O\n",
        "import seaborn as sns #for plotting graphs\n",
        "import matplotlib.pyplot as plt\n",
        "from google.colab import drive\n",
        "from sklearn.model_selection import train_test_split\n",
        "from sklearn import linear_model"
      ],
      "metadata": {
        "id": "P_6ilFXcj4Oy"
      },
      "execution_count": null,
      "outputs": []
    },
    {
      "cell_type": "code",
      "source": [
        "#connect Google Drive\n",
        "drive.mount('/content/drive')"
      ],
      "metadata": {
        "id": "BdSUCwQ7j1xN",
        "colab": {
          "base_uri": "https://localhost:8080/"
        },
        "outputId": "5795e91f-9e5a-4607-f621-29dcdb9f6127"
      },
      "execution_count": null,
      "outputs": [
        {
          "output_type": "stream",
          "name": "stdout",
          "text": [
            "Mounted at /content/drive\n"
          ]
        }
      ]
    },
    {
      "cell_type": "markdown",
      "source": [
        "# Load house sales data\n",
        "\n",
        "Dataset is from house sales in King County, the region where the city of Seattle, WA is located."
      ],
      "metadata": {
        "id": "8oj-vDFUkAKI"
      }
    },
    {
      "cell_type": "code",
      "source": [
        "#Loading Data\n",
        "sales = pd.read_csv('/content/drive/MyDrive/kc_house_data.csv')"
      ],
      "metadata": {
        "id": "YUDf5gAskH_C"
      },
      "execution_count": null,
      "outputs": []
    },
    {
      "cell_type": "code",
      "source": [
        "sales.shape #it should be (21613, 21)"
      ],
      "metadata": {
        "id": "nBXhgsb4kJ2v",
        "colab": {
          "base_uri": "https://localhost:8080/"
        },
        "outputId": "2b9d078f-a795-43fa-9d11-b2843ae15d55"
      },
      "execution_count": null,
      "outputs": [
        {
          "output_type": "execute_result",
          "data": {
            "text/plain": [
              "(21613, 21)"
            ]
          },
          "metadata": {},
          "execution_count": 4
        }
      ]
    },
    {
      "cell_type": "code",
      "source": [
        "sales.head() #explore the data"
      ],
      "metadata": {
        "id": "VODAewoGkJ4p",
        "colab": {
          "base_uri": "https://localhost:8080/",
          "height": 297
        },
        "outputId": "45c722d8-e0cd-4f00-9151-7284ea95525d"
      },
      "execution_count": null,
      "outputs": [
        {
          "output_type": "execute_result",
          "data": {
            "text/plain": [
              "           id             date     price  bedrooms  bathrooms  sqft_living  \\\n",
              "0  7129300520  20141013T000000  221900.0         3       1.00         1180   \n",
              "1  6414100192  20141209T000000  538000.0         3       2.25         2570   \n",
              "2  5631500400  20150225T000000  180000.0         2       1.00          770   \n",
              "3  2487200875  20141209T000000  604000.0         4       3.00         1960   \n",
              "4  1954400510  20150218T000000  510000.0         3       2.00         1680   \n",
              "\n",
              "   sqft_lot  floors  waterfront  view  ...  grade  sqft_above  sqft_basement  \\\n",
              "0      5650     1.0           0     0  ...      7        1180              0   \n",
              "1      7242     2.0           0     0  ...      7        2170            400   \n",
              "2     10000     1.0           0     0  ...      6         770              0   \n",
              "3      5000     1.0           0     0  ...      7        1050            910   \n",
              "4      8080     1.0           0     0  ...      8        1680              0   \n",
              "\n",
              "   yr_built  yr_renovated  zipcode      lat     long  sqft_living15  \\\n",
              "0      1955             0    98178  47.5112 -122.257           1340   \n",
              "1      1951          1991    98125  47.7210 -122.319           1690   \n",
              "2      1933             0    98028  47.7379 -122.233           2720   \n",
              "3      1965             0    98136  47.5208 -122.393           1360   \n",
              "4      1987             0    98074  47.6168 -122.045           1800   \n",
              "\n",
              "   sqft_lot15  \n",
              "0        5650  \n",
              "1        7639  \n",
              "2        8062  \n",
              "3        5000  \n",
              "4        7503  \n",
              "\n",
              "[5 rows x 21 columns]"
            ],
            "text/html": [
              "\n",
              "  <div id=\"df-e5dc92e2-9b08-4319-8e0d-8aacfd446177\">\n",
              "    <div class=\"colab-df-container\">\n",
              "      <div>\n",
              "<style scoped>\n",
              "    .dataframe tbody tr th:only-of-type {\n",
              "        vertical-align: middle;\n",
              "    }\n",
              "\n",
              "    .dataframe tbody tr th {\n",
              "        vertical-align: top;\n",
              "    }\n",
              "\n",
              "    .dataframe thead th {\n",
              "        text-align: right;\n",
              "    }\n",
              "</style>\n",
              "<table border=\"1\" class=\"dataframe\">\n",
              "  <thead>\n",
              "    <tr style=\"text-align: right;\">\n",
              "      <th></th>\n",
              "      <th>id</th>\n",
              "      <th>date</th>\n",
              "      <th>price</th>\n",
              "      <th>bedrooms</th>\n",
              "      <th>bathrooms</th>\n",
              "      <th>sqft_living</th>\n",
              "      <th>sqft_lot</th>\n",
              "      <th>floors</th>\n",
              "      <th>waterfront</th>\n",
              "      <th>view</th>\n",
              "      <th>...</th>\n",
              "      <th>grade</th>\n",
              "      <th>sqft_above</th>\n",
              "      <th>sqft_basement</th>\n",
              "      <th>yr_built</th>\n",
              "      <th>yr_renovated</th>\n",
              "      <th>zipcode</th>\n",
              "      <th>lat</th>\n",
              "      <th>long</th>\n",
              "      <th>sqft_living15</th>\n",
              "      <th>sqft_lot15</th>\n",
              "    </tr>\n",
              "  </thead>\n",
              "  <tbody>\n",
              "    <tr>\n",
              "      <th>0</th>\n",
              "      <td>7129300520</td>\n",
              "      <td>20141013T000000</td>\n",
              "      <td>221900.0</td>\n",
              "      <td>3</td>\n",
              "      <td>1.00</td>\n",
              "      <td>1180</td>\n",
              "      <td>5650</td>\n",
              "      <td>1.0</td>\n",
              "      <td>0</td>\n",
              "      <td>0</td>\n",
              "      <td>...</td>\n",
              "      <td>7</td>\n",
              "      <td>1180</td>\n",
              "      <td>0</td>\n",
              "      <td>1955</td>\n",
              "      <td>0</td>\n",
              "      <td>98178</td>\n",
              "      <td>47.5112</td>\n",
              "      <td>-122.257</td>\n",
              "      <td>1340</td>\n",
              "      <td>5650</td>\n",
              "    </tr>\n",
              "    <tr>\n",
              "      <th>1</th>\n",
              "      <td>6414100192</td>\n",
              "      <td>20141209T000000</td>\n",
              "      <td>538000.0</td>\n",
              "      <td>3</td>\n",
              "      <td>2.25</td>\n",
              "      <td>2570</td>\n",
              "      <td>7242</td>\n",
              "      <td>2.0</td>\n",
              "      <td>0</td>\n",
              "      <td>0</td>\n",
              "      <td>...</td>\n",
              "      <td>7</td>\n",
              "      <td>2170</td>\n",
              "      <td>400</td>\n",
              "      <td>1951</td>\n",
              "      <td>1991</td>\n",
              "      <td>98125</td>\n",
              "      <td>47.7210</td>\n",
              "      <td>-122.319</td>\n",
              "      <td>1690</td>\n",
              "      <td>7639</td>\n",
              "    </tr>\n",
              "    <tr>\n",
              "      <th>2</th>\n",
              "      <td>5631500400</td>\n",
              "      <td>20150225T000000</td>\n",
              "      <td>180000.0</td>\n",
              "      <td>2</td>\n",
              "      <td>1.00</td>\n",
              "      <td>770</td>\n",
              "      <td>10000</td>\n",
              "      <td>1.0</td>\n",
              "      <td>0</td>\n",
              "      <td>0</td>\n",
              "      <td>...</td>\n",
              "      <td>6</td>\n",
              "      <td>770</td>\n",
              "      <td>0</td>\n",
              "      <td>1933</td>\n",
              "      <td>0</td>\n",
              "      <td>98028</td>\n",
              "      <td>47.7379</td>\n",
              "      <td>-122.233</td>\n",
              "      <td>2720</td>\n",
              "      <td>8062</td>\n",
              "    </tr>\n",
              "    <tr>\n",
              "      <th>3</th>\n",
              "      <td>2487200875</td>\n",
              "      <td>20141209T000000</td>\n",
              "      <td>604000.0</td>\n",
              "      <td>4</td>\n",
              "      <td>3.00</td>\n",
              "      <td>1960</td>\n",
              "      <td>5000</td>\n",
              "      <td>1.0</td>\n",
              "      <td>0</td>\n",
              "      <td>0</td>\n",
              "      <td>...</td>\n",
              "      <td>7</td>\n",
              "      <td>1050</td>\n",
              "      <td>910</td>\n",
              "      <td>1965</td>\n",
              "      <td>0</td>\n",
              "      <td>98136</td>\n",
              "      <td>47.5208</td>\n",
              "      <td>-122.393</td>\n",
              "      <td>1360</td>\n",
              "      <td>5000</td>\n",
              "    </tr>\n",
              "    <tr>\n",
              "      <th>4</th>\n",
              "      <td>1954400510</td>\n",
              "      <td>20150218T000000</td>\n",
              "      <td>510000.0</td>\n",
              "      <td>3</td>\n",
              "      <td>2.00</td>\n",
              "      <td>1680</td>\n",
              "      <td>8080</td>\n",
              "      <td>1.0</td>\n",
              "      <td>0</td>\n",
              "      <td>0</td>\n",
              "      <td>...</td>\n",
              "      <td>8</td>\n",
              "      <td>1680</td>\n",
              "      <td>0</td>\n",
              "      <td>1987</td>\n",
              "      <td>0</td>\n",
              "      <td>98074</td>\n",
              "      <td>47.6168</td>\n",
              "      <td>-122.045</td>\n",
              "      <td>1800</td>\n",
              "      <td>7503</td>\n",
              "    </tr>\n",
              "  </tbody>\n",
              "</table>\n",
              "<p>5 rows × 21 columns</p>\n",
              "</div>\n",
              "      <button class=\"colab-df-convert\" onclick=\"convertToInteractive('df-e5dc92e2-9b08-4319-8e0d-8aacfd446177')\"\n",
              "              title=\"Convert this dataframe to an interactive table.\"\n",
              "              style=\"display:none;\">\n",
              "        \n",
              "  <svg xmlns=\"http://www.w3.org/2000/svg\" height=\"24px\"viewBox=\"0 0 24 24\"\n",
              "       width=\"24px\">\n",
              "    <path d=\"M0 0h24v24H0V0z\" fill=\"none\"/>\n",
              "    <path d=\"M18.56 5.44l.94 2.06.94-2.06 2.06-.94-2.06-.94-.94-2.06-.94 2.06-2.06.94zm-11 1L8.5 8.5l.94-2.06 2.06-.94-2.06-.94L8.5 2.5l-.94 2.06-2.06.94zm10 10l.94 2.06.94-2.06 2.06-.94-2.06-.94-.94-2.06-.94 2.06-2.06.94z\"/><path d=\"M17.41 7.96l-1.37-1.37c-.4-.4-.92-.59-1.43-.59-.52 0-1.04.2-1.43.59L10.3 9.45l-7.72 7.72c-.78.78-.78 2.05 0 2.83L4 21.41c.39.39.9.59 1.41.59.51 0 1.02-.2 1.41-.59l7.78-7.78 2.81-2.81c.8-.78.8-2.07 0-2.86zM5.41 20L4 18.59l7.72-7.72 1.47 1.35L5.41 20z\"/>\n",
              "  </svg>\n",
              "      </button>\n",
              "      \n",
              "  <style>\n",
              "    .colab-df-container {\n",
              "      display:flex;\n",
              "      flex-wrap:wrap;\n",
              "      gap: 12px;\n",
              "    }\n",
              "\n",
              "    .colab-df-convert {\n",
              "      background-color: #E8F0FE;\n",
              "      border: none;\n",
              "      border-radius: 50%;\n",
              "      cursor: pointer;\n",
              "      display: none;\n",
              "      fill: #1967D2;\n",
              "      height: 32px;\n",
              "      padding: 0 0 0 0;\n",
              "      width: 32px;\n",
              "    }\n",
              "\n",
              "    .colab-df-convert:hover {\n",
              "      background-color: #E2EBFA;\n",
              "      box-shadow: 0px 1px 2px rgba(60, 64, 67, 0.3), 0px 1px 3px 1px rgba(60, 64, 67, 0.15);\n",
              "      fill: #174EA6;\n",
              "    }\n",
              "\n",
              "    [theme=dark] .colab-df-convert {\n",
              "      background-color: #3B4455;\n",
              "      fill: #D2E3FC;\n",
              "    }\n",
              "\n",
              "    [theme=dark] .colab-df-convert:hover {\n",
              "      background-color: #434B5C;\n",
              "      box-shadow: 0px 1px 3px 1px rgba(0, 0, 0, 0.15);\n",
              "      filter: drop-shadow(0px 1px 2px rgba(0, 0, 0, 0.3));\n",
              "      fill: #FFFFFF;\n",
              "    }\n",
              "  </style>\n",
              "\n",
              "      <script>\n",
              "        const buttonEl =\n",
              "          document.querySelector('#df-e5dc92e2-9b08-4319-8e0d-8aacfd446177 button.colab-df-convert');\n",
              "        buttonEl.style.display =\n",
              "          google.colab.kernel.accessAllowed ? 'block' : 'none';\n",
              "\n",
              "        async function convertToInteractive(key) {\n",
              "          const element = document.querySelector('#df-e5dc92e2-9b08-4319-8e0d-8aacfd446177');\n",
              "          const dataTable =\n",
              "            await google.colab.kernel.invokeFunction('convertToInteractive',\n",
              "                                                     [key], {});\n",
              "          if (!dataTable) return;\n",
              "\n",
              "          const docLinkHtml = 'Like what you see? Visit the ' +\n",
              "            '<a target=\"_blank\" href=https://colab.research.google.com/notebooks/data_table.ipynb>data table notebook</a>'\n",
              "            + ' to learn more about interactive tables.';\n",
              "          element.innerHTML = '';\n",
              "          dataTable['output_type'] = 'display_data';\n",
              "          await google.colab.output.renderOutput(dataTable, element);\n",
              "          const docLink = document.createElement('div');\n",
              "          docLink.innerHTML = docLinkHtml;\n",
              "          element.appendChild(docLink);\n",
              "        }\n",
              "      </script>\n",
              "    </div>\n",
              "  </div>\n",
              "  "
            ]
          },
          "metadata": {},
          "execution_count": 5
        }
      ]
    },
    {
      "cell_type": "markdown",
      "source": [
        "# Split data into training and testing\n",
        "We use random state = 0 so that everyone running this notebook gets the same results.  In practice, you may set a random state. "
      ],
      "metadata": {
        "id": "sDAo8SMdkEpB"
      }
    },
    {
      "cell_type": "code",
      "source": [
        "train_data,test_data = train_test_split(sales,train_size=0.8,random_state=0)"
      ],
      "metadata": {
        "id": "vbp4hZvtkSGZ"
      },
      "execution_count": null,
      "outputs": []
    },
    {
      "cell_type": "markdown",
      "source": [
        "# Useful pandas/numpy summary functions\n",
        "\n",
        "In order to make use of the closed form solution as well as take advantage of pandas' built in functions we will review some important ones. In particular:\n",
        "* Computing the sum of a column/array (in a dataframe)\n",
        "* Computing the arithmetic average (mean) of a column/array\n",
        "* multiplying columns/arrays by constants\n",
        "* multiplying columns/arrays by other columns/arrays"
      ],
      "metadata": {
        "id": "ZnyK2z9ZkTYn"
      }
    },
    {
      "cell_type": "code",
      "source": [
        "# Let's compute the mean of the House Prices in King County in 2 different ways.\n",
        "prices = sales['price'] # extract the price column of the sales dataframe -- this is now a column\n",
        "# recall that the arithmetic average (the mean) is the sum of the prices divided by the total number of houses:\n",
        "sum_prices = prices.sum()\n",
        "num_houses = len(prices) # returns its length\n",
        "avg_price_1 = sum_prices/num_houses\n",
        "avg_price_2 = prices.mean() # if you just want the average, the .mean() function\n",
        "print (\"average price via method 1: \" + str(avg_price_1))\n",
        "print (\"average price via method 2: \" + str(avg_price_2))"
      ],
      "metadata": {
        "id": "ExrFjKIOkYT5",
        "colab": {
          "base_uri": "https://localhost:8080/"
        },
        "outputId": "be1024b2-7419-4d8e-d3b6-12ba2115ec89"
      },
      "execution_count": null,
      "outputs": [
        {
          "output_type": "stream",
          "name": "stdout",
          "text": [
            "average price via method 1: 540088.1417665294\n",
            "average price via method 2: 540088.1417665294\n"
          ]
        }
      ]
    },
    {
      "cell_type": "markdown",
      "source": [
        "You should the same answer both ways which is 540088"
      ],
      "metadata": {
        "id": "6Amtbj4wkbAz"
      }
    },
    {
      "cell_type": "code",
      "source": [
        "# if we want to multiply every price by 0.5 it's a simple as:\n",
        "half_prices = 0.5*prices\n",
        "# Let's compute the sum of squares of price. We can multiply two arrays of the same length elementwise also with *\n",
        "prices_squared = prices*prices\n",
        "sum_prices_squared = prices_squared.sum() # price_squared is an array of the squares and we want to add them up.\n",
        "print (\"the sum of price squared is: \" + str(sum_prices_squared)) #the sum of price squared is: 9217325138472070.0"
      ],
      "metadata": {
        "id": "yRZ1TN3BkfzF",
        "colab": {
          "base_uri": "https://localhost:8080/"
        },
        "outputId": "38b3a387-6f1f-4e9c-a607-01ea2f0c462f"
      },
      "execution_count": null,
      "outputs": [
        {
          "output_type": "stream",
          "name": "stdout",
          "text": [
            "the sum of price squared is: 9217325138472070.0\n"
          ]
        }
      ]
    },
    {
      "cell_type": "markdown",
      "source": [
        "Aside: The python notation x.xxe+yy means x.xx \\* 10^(yy). e.g 100 = 10^2 = 1*10^2 = 1e2 "
      ],
      "metadata": {
        "id": "CvpCVUiMkiJb"
      }
    },
    {
      "cell_type": "markdown",
      "source": [
        "# Build a generic simple linear regression function "
      ],
      "metadata": {
        "id": "Y1yJBpNskkZ-"
      }
    },
    {
      "cell_type": "markdown",
      "source": [
        "Armed with these Array functions we can use the closed form solution found from lecture to compute the slope and intercept for a simple linear regression on observations stored as Arrays: input_feature, output.\n",
        "\n",
        "Complete the following function (or write your own) to compute the simple linear regression slope and intercept:"
      ],
      "metadata": {
        "id": "OYm-hYOZkm7Z"
      }
    },
    {
      "cell_type": "code",
      "source": [
        "def simple_linear_regression(input_feature, output):\n",
        "  \n",
        "    # compute the sum of input_feature and output\n",
        "    n = len(input_feature)\n",
        "    x = input_feature\n",
        "    y = output\n",
        "    \n",
        "    # compute the mean of input_feature and output\n",
        "    x_mean = x.mean() # x 的平均\n",
        "    y_mean = y.mean() # y 的平均\n",
        "    \n",
        "    # compute the product of the output and the input_feature and its mean\n",
        "    sum_xy = (x*y).sum() # 成對的 x & y 相乘後加總\n",
        "    xy_by_n = (x.sum()*y.sum())/n # sum of x 乘上 sum of y 後求平均\n",
        "               \n",
        "    # compute the squared value of the input_feature and its mean\n",
        "    x_square = (x**2).sum() # x^2 後的總和\n",
        "    xx_by_n = (x.sum()**2)/n # sum of x 乘上 sum of x 後求平均\n",
        "               \n",
        "    # use the formula for the slope\n",
        "    slope =  (sum_xy - xy_by_n)/(x_square - xx_by_n)\n",
        "    \n",
        "    # use the formula for the intercept\n",
        "    intercept = y_mean - (slope * x_mean)\n",
        "\n",
        "    return (intercept, slope)"
      ],
      "metadata": {
        "id": "EMiZ4y45ko05"
      },
      "execution_count": null,
      "outputs": []
    },
    {
      "cell_type": "markdown",
      "source": [
        "We can test that our function works by passing it something where we know the answer. In particular we can generate a feature and then put the output exactly on a line: output = 1 + 1\\*input_feature then we know both our slope and intercept should be 1"
      ],
      "metadata": {
        "id": "BlJTTlXfkrBn"
      }
    },
    {
      "cell_type": "code",
      "source": [
        "# this is to test whether simple_linear_regression work\n",
        "test_feature = np.array(range(5))\n",
        "test_output = np.array(1 + 1*test_feature)\n",
        "(test_intercept, test_slope) =  simple_linear_regression(test_feature, test_output)\n",
        "print (\"Intercept: \" + str(test_intercept)) #it should be 1\n",
        "print (\"Slope: \" + str(test_slope)) #it should be 1"
      ],
      "metadata": {
        "id": "bhhcoYswkvQt",
        "colab": {
          "base_uri": "https://localhost:8080/"
        },
        "outputId": "5b93dc8a-6d4b-47dc-a36e-7eaf4f5ff304"
      },
      "execution_count": null,
      "outputs": [
        {
          "output_type": "stream",
          "name": "stdout",
          "text": [
            "Intercept: 1.0\n",
            "Slope: 1.0\n"
          ]
        }
      ]
    },
    {
      "cell_type": "markdown",
      "source": [
        "Now that we know it works let's build a regression model for predicting price based on sqft_living. Rembember that we train on train_data!"
      ],
      "metadata": {
        "id": "_aGYIJSokxFy"
      }
    },
    {
      "cell_type": "code",
      "source": [
        "sqft_intercept, sqft_slope = simple_linear_regression(train_data['sqft_living'], train_data['price'])\n",
        "\n",
        "print (\"Intercept: \" + str(sqft_intercept))  # Intercept: -48257.063591028564\n",
        "print (\"Slope: \" + str(sqft_slope)) # Slope: 283.96855715512993"
      ],
      "metadata": {
        "id": "cyL1UdJTkyqV",
        "colab": {
          "base_uri": "https://localhost:8080/"
        },
        "outputId": "aabfb150-23d9-4f73-b0f0-08497c5c991c"
      },
      "execution_count": null,
      "outputs": [
        {
          "output_type": "stream",
          "name": "stdout",
          "text": [
            "Intercept: -48257.063591028564\n",
            "Slope: 283.96855715512993\n"
          ]
        }
      ]
    },
    {
      "cell_type": "markdown",
      "source": [
        "# Predicting Values"
      ],
      "metadata": {
        "id": "enqdFxKqk0He"
      }
    },
    {
      "cell_type": "markdown",
      "source": [
        "Now that we have the model parameters: intercept & slope we can make predictions. Complete the following function to return the predicted output given the input_feature, slope and intercept:"
      ],
      "metadata": {
        "id": "slXWimjVk1mH"
      }
    },
    {
      "cell_type": "code",
      "source": [
        "def get_regression_predictions(input_feature, intercept, slope):\n",
        "    # calculate the predicted values:\n",
        "    predicted_values =  intercept + slope * input_feature # 已經知道 slope w1 & intercept w0, 對於某一輸入的input_feature 求得其估計值\n",
        "    # y = f(x) = w0 +w1*x , w0 = Y-intercept, w1 = slope, y = predicted values\n",
        "    return predicted_values"
      ],
      "metadata": {
        "id": "9o5xFmjTk3TI"
      },
      "execution_count": null,
      "outputs": []
    },
    {
      "cell_type": "markdown",
      "source": [
        "Now that we can calculate a prediction given the slope and intercept let's make a prediction. Use (or alter) the following to find out the estimated price for a house with 2650 squarefeet according to the squarefeet model we estiamted above.\n",
        "\n",
        "**Quiz Question: Using your Slope and Intercept from (4), What is the predicted price for a house with 2650 sqft?**"
      ],
      "metadata": {
        "id": "PmamRuRFk5tf"
      }
    },
    {
      "cell_type": "code",
      "source": [
        "my_house_sqft = 2650 # 特徵（房子的坪數） \n",
        "estimated_price = get_regression_predictions(my_house_sqft, sqft_intercept, sqft_slope)# Using get_regression_predictions to find out\n",
        "print (\"The estimated price for a house with %d squarefeet is $%.2f\" % (my_house_sqft, estimated_price))"
      ],
      "metadata": {
        "id": "Zm1B12Isk8d5",
        "colab": {
          "base_uri": "https://localhost:8080/"
        },
        "outputId": "d45f6d45-970b-4ebc-9230-e0be04a167ed"
      },
      "execution_count": null,
      "outputs": [
        {
          "output_type": "stream",
          "name": "stdout",
          "text": [
            "The estimated price for a house with 2650 squarefeet is $704259.61\n"
          ]
        }
      ]
    },
    {
      "cell_type": "markdown",
      "source": [
        "# Residual Sum of Squares"
      ],
      "metadata": {
        "id": "TBCItB-hk-mu"
      }
    },
    {
      "cell_type": "markdown",
      "source": [
        "Now that we have a model and can make predictions let's evaluate our model using Residual Sum of Squares (RSS). Recall that RSS is the sum of the squares of the residuals and the residuals is just a fancy word for the difference between the predicted output and the true output. \n",
        "\n",
        "Complete the following (or write your own) function to compute the RSS of a simple linear regression model given the input_feature, output, intercept and slope:"
      ],
      "metadata": {
        "id": "poQJClv0k_r4"
      }
    },
    {
      "cell_type": "code",
      "source": [
        "def get_residual_sum_of_squares(input_feature, output, intercept, slope):\n",
        "    # First get the predictions\n",
        "    predicted_values = get_regression_predictions(input_feature, intercept, slope) # 一樣利用已知 slope w1 & intercept w0, 對輸入的input_feature 求得其估計值\n",
        "    # then compute the residuals (since we are squaring it doesn't matter which order you subtract)\n",
        "    residuals =  output - predicted_values\n",
        "    # square the residuals and add them up\n",
        "    RSS = (residuals**2).sum()\n",
        "    return(RSS)"
      ],
      "metadata": {
        "id": "ypG65vOMlCEs"
      },
      "execution_count": null,
      "outputs": []
    },
    {
      "cell_type": "markdown",
      "source": [
        "Let's test our get_residual_sum_of_squares function by applying it to the test model where the data lie exactly on a line. Since they lie exactly on a line the residual sum of squares should be zero!"
      ],
      "metadata": {
        "id": "HjtpqaljlErd"
      }
    },
    {
      "cell_type": "code",
      "source": [
        "print (get_residual_sum_of_squares(test_feature, test_output, test_intercept, test_slope)) # should be 0.0"
      ],
      "metadata": {
        "id": "_7AHIih6lJ7t",
        "colab": {
          "base_uri": "https://localhost:8080/"
        },
        "outputId": "9ee98009-908d-46bf-fc7f-810bb026fe75"
      },
      "execution_count": null,
      "outputs": [
        {
          "output_type": "stream",
          "name": "stdout",
          "text": [
            "0.0\n"
          ]
        }
      ]
    },
    {
      "cell_type": "markdown",
      "source": [
        "Now use your function to calculate the RSS on training data from the squarefeet model calculated above.\n",
        "\n",
        "**Quiz Question: According to this function and the slope and intercept from the squarefeet model What is the RSS for the simple linear regression using squarefeet to predict prices on TRAINING data?**"
      ],
      "metadata": {
        "id": "WfV6XGd9lQfj"
      }
    },
    {
      "cell_type": "code",
      "source": [
        "rss_prices_on_sqft = get_residual_sum_of_squares(train_data['sqft_living'], train_data['price'], sqft_intercept, sqft_slope)\n",
        "print ('The RSS of predicting Prices based on Square Feet is : ' + str(rss_prices_on_sqft))"
      ],
      "metadata": {
        "id": "UJBH2xXDlSPx",
        "colab": {
          "base_uri": "https://localhost:8080/"
        },
        "outputId": "e0fb4662-b2cb-4052-96d5-b9fce0c5592c"
      },
      "execution_count": null,
      "outputs": [
        {
          "output_type": "stream",
          "name": "stdout",
          "text": [
            "The RSS of predicting Prices based on Square Feet is : 1209822763116208.0\n"
          ]
        }
      ]
    },
    {
      "cell_type": "markdown",
      "source": [
        "# Predict the squarefeet given price\n"
      ],
      "metadata": {
        "id": "4aBEciI3lUcH"
      }
    },
    {
      "cell_type": "markdown",
      "source": [
        "What if we want to predict the squarefoot given the price? Since we have an equation y = a + b\\*x we can solve the function for x. So that if we have the intercept (a) and the slope (b) and the price (y) we can solve for the estimated squarefeet (x).\n",
        "\n",
        "Complete the following function to compute the inverse regression estimate, i.e. predict the input_feature given the output."
      ],
      "metadata": {
        "id": "jU-DoBPylX0n"
      }
    },
    {
      "cell_type": "code",
      "source": [
        "def inverse_regression_predictions(output, intercept, slope):\n",
        "    # solve output = intercept + slope*input_feature for input_feature. Use this equation to compute the inverse predictions:\n",
        "    #input_feature = (output - intercept) / slope\n",
        "    estimated_feature = (output - intercept) / slope\n",
        "    return estimated_feature"
      ],
      "metadata": {
        "id": "dHThe_yglaQY"
      },
      "execution_count": null,
      "outputs": []
    },
    {
      "cell_type": "markdown",
      "source": [
        "Now that we have a function to compute the squarefeet given the price from our simple regression model let's see how big we might expect a house that costs $800,000 to be.\n",
        "\n",
        "**Quiz Question: According to this function and the regression slope and intercept from (3) what is the estimated square-feet for a house costing $800,000?**"
      ],
      "metadata": {
        "id": "e2RDjs0Klb5q"
      }
    },
    {
      "cell_type": "code",
      "source": [
        "my_house_price = 800000\n",
        "estimated_squarefeet = inverse_regression_predictions(my_house_price, sqft_intercept, sqft_slope) # Using inverse_regression_predictions to find out\n",
        "print (\"The estimated squarefeet for a house worth $%.2f is %d\" % (my_house_price, estimated_squarefeet))"
      ],
      "metadata": {
        "id": "2oGWbxFElduI",
        "colab": {
          "base_uri": "https://localhost:8080/"
        },
        "outputId": "06c7a11b-7f9e-4888-ac30-435755a6869d"
      },
      "execution_count": null,
      "outputs": [
        {
          "output_type": "stream",
          "name": "stdout",
          "text": [
            "The estimated squarefeet for a house worth $800000.00 is 2987\n"
          ]
        }
      ]
    },
    {
      "cell_type": "markdown",
      "source": [
        "# New Model: estimate prices from bedrooms"
      ],
      "metadata": {
        "id": "g72Rj_OOlgK7"
      }
    },
    {
      "cell_type": "markdown",
      "source": [
        "We have made one model for predicting house prices using squarefeet, but there are many other features in the sales SFrame. \n",
        "Use your simple linear regression function to estimate the regression parameters from predicting Prices based on number of bedrooms. Use the training data!"
      ],
      "metadata": {
        "id": "DiqF-o2DlkKF"
      }
    },
    {
      "cell_type": "code",
      "source": [
        "# Estimate the slope and intercept for predicting 'price' based on 'bedrooms'\n",
        "sqft_intercept2, sqft_slope2 = simple_linear_regression(train_data['bedrooms'], train_data['price'])\n",
        "print (\"Intercept: \" + str(sqft_intercept2))\n",
        "print (\"Slope: \" + str(sqft_slope2))"
      ],
      "metadata": {
        "id": "Pa2EkX9GlnpB",
        "colab": {
          "base_uri": "https://localhost:8080/"
        },
        "outputId": "02238bf0-7336-43ca-81d6-1a7c715f4083"
      },
      "execution_count": null,
      "outputs": [
        {
          "output_type": "stream",
          "name": "stdout",
          "text": [
            "Intercept: 126751.84729183262\n",
            "Slope: 123535.45861796693\n"
          ]
        }
      ]
    },
    {
      "cell_type": "markdown",
      "source": [
        "# Test your Linear Regression Algorithm"
      ],
      "metadata": {
        "id": "R4EdlUyNlpXH"
      }
    },
    {
      "cell_type": "markdown",
      "source": [
        "Now we have two models for predicting the price of a house. How do we know which one is better? Calculate the RSS on the TEST data (remember this data wasn't involved in learning the model). Compute the RSS from predicting prices using bedrooms and from predicting prices using squarefeet.\n",
        "\n",
        "**Quiz Question: Which model (square feet or bedrooms) has lowest RSS on TEST data? Think about why this might be the case.**"
      ],
      "metadata": {
        "id": "x27JlyIklq9L"
      }
    },
    {
      "cell_type": "code",
      "source": [
        "# Compute RSS when using bedrooms on TEST data:\n",
        "\n",
        "sqft_intercept2, sqft_slope2 = simple_linear_regression(train_data['bedrooms'], train_data['price']) # 利用已經建立好的 function 求得 intercept & slope\n",
        "rss_prices_on_bedrooms =  get_residual_sum_of_squares(train_data['bedrooms'], train_data['price'], sqft_intercept, sqft_slope)# 利用已經建立好的 function 求得 RSS\n",
        "print ('The RSS of predicting Prices based on Bedrooms is : ' + str(rss_prices_on_bedrooms))\n"
      ],
      "metadata": {
        "id": "9g5s4_OHluGa",
        "colab": {
          "base_uri": "https://localhost:8080/"
        },
        "outputId": "ab81eadb-4b72-450e-9ad9-dcc8a6a505dc"
      },
      "execution_count": null,
      "outputs": [
        {
          "output_type": "stream",
          "name": "stdout",
          "text": [
            "The RSS of predicting Prices based on Bedrooms is : 8417794200127937.0\n"
          ]
        }
      ]
    },
    {
      "cell_type": "code",
      "source": [
        "# Compute RSS when using squarefeet on TEST data:\n",
        "sqft_intercept, sqft_slope = simple_linear_regression(train_data['sqft_living'], train_data['price'])\n",
        "rss_prices_on_sqft = get_residual_sum_of_squares(train_data['sqft_living'], train_data['price'], sqft_intercept, sqft_slope)\n",
        "print ('The RSS of predicting Prices based on Square Feet is : ' + str(rss_prices_on_sqft))"
      ],
      "metadata": {
        "id": "hnjG4D03luRi",
        "colab": {
          "base_uri": "https://localhost:8080/"
        },
        "outputId": "75e3d517-29af-44ea-8cc3-4ab7cbc2a89e"
      },
      "execution_count": null,
      "outputs": [
        {
          "output_type": "stream",
          "name": "stdout",
          "text": [
            "The RSS of predicting Prices based on Square Feet is : 1209822763116208.0\n"
          ]
        }
      ]
    },
    {
      "cell_type": "code",
      "source": [
        "# 上傳.ipynb檔\n",
        "from matplotlib.cbook import print_cycles\n",
        "from google.colab import files\n",
        "upload = files.upload()\n",
        "for filename in upload.keys():\n",
        "  print('file\"{name}\"'.format(name = filename))"
      ],
      "metadata": {
        "colab": {
          "base_uri": "https://localhost:8080/",
          "height": 39
        },
        "id": "to7OMcFHgSGb",
        "outputId": "a176fc93-94e7-4eee-d40b-edca5ad774fb"
      },
      "execution_count": null,
      "outputs": [
        {
          "output_type": "display_data",
          "data": {
            "text/plain": [
              "<IPython.core.display.HTML object>"
            ],
            "text/html": [
              "\n",
              "     <input type=\"file\" id=\"files-e14d631d-16b2-41bb-a980-a123fbbca12d\" name=\"files[]\" multiple disabled\n",
              "        style=\"border:none\" />\n",
              "     <output id=\"result-e14d631d-16b2-41bb-a980-a123fbbca12d\">\n",
              "      Upload widget is only available when the cell has been executed in the\n",
              "      current browser session. Please rerun this cell to enable.\n",
              "      </output>\n",
              "      <script>// Copyright 2017 Google LLC\n",
              "//\n",
              "// Licensed under the Apache License, Version 2.0 (the \"License\");\n",
              "// you may not use this file except in compliance with the License.\n",
              "// You may obtain a copy of the License at\n",
              "//\n",
              "//      http://www.apache.org/licenses/LICENSE-2.0\n",
              "//\n",
              "// Unless required by applicable law or agreed to in writing, software\n",
              "// distributed under the License is distributed on an \"AS IS\" BASIS,\n",
              "// WITHOUT WARRANTIES OR CONDITIONS OF ANY KIND, either express or implied.\n",
              "// See the License for the specific language governing permissions and\n",
              "// limitations under the License.\n",
              "\n",
              "/**\n",
              " * @fileoverview Helpers for google.colab Python module.\n",
              " */\n",
              "(function(scope) {\n",
              "function span(text, styleAttributes = {}) {\n",
              "  const element = document.createElement('span');\n",
              "  element.textContent = text;\n",
              "  for (const key of Object.keys(styleAttributes)) {\n",
              "    element.style[key] = styleAttributes[key];\n",
              "  }\n",
              "  return element;\n",
              "}\n",
              "\n",
              "// Max number of bytes which will be uploaded at a time.\n",
              "const MAX_PAYLOAD_SIZE = 100 * 1024;\n",
              "\n",
              "function _uploadFiles(inputId, outputId) {\n",
              "  const steps = uploadFilesStep(inputId, outputId);\n",
              "  const outputElement = document.getElementById(outputId);\n",
              "  // Cache steps on the outputElement to make it available for the next call\n",
              "  // to uploadFilesContinue from Python.\n",
              "  outputElement.steps = steps;\n",
              "\n",
              "  return _uploadFilesContinue(outputId);\n",
              "}\n",
              "\n",
              "// This is roughly an async generator (not supported in the browser yet),\n",
              "// where there are multiple asynchronous steps and the Python side is going\n",
              "// to poll for completion of each step.\n",
              "// This uses a Promise to block the python side on completion of each step,\n",
              "// then passes the result of the previous step as the input to the next step.\n",
              "function _uploadFilesContinue(outputId) {\n",
              "  const outputElement = document.getElementById(outputId);\n",
              "  const steps = outputElement.steps;\n",
              "\n",
              "  const next = steps.next(outputElement.lastPromiseValue);\n",
              "  return Promise.resolve(next.value.promise).then((value) => {\n",
              "    // Cache the last promise value to make it available to the next\n",
              "    // step of the generator.\n",
              "    outputElement.lastPromiseValue = value;\n",
              "    return next.value.response;\n",
              "  });\n",
              "}\n",
              "\n",
              "/**\n",
              " * Generator function which is called between each async step of the upload\n",
              " * process.\n",
              " * @param {string} inputId Element ID of the input file picker element.\n",
              " * @param {string} outputId Element ID of the output display.\n",
              " * @return {!Iterable<!Object>} Iterable of next steps.\n",
              " */\n",
              "function* uploadFilesStep(inputId, outputId) {\n",
              "  const inputElement = document.getElementById(inputId);\n",
              "  inputElement.disabled = false;\n",
              "\n",
              "  const outputElement = document.getElementById(outputId);\n",
              "  outputElement.innerHTML = '';\n",
              "\n",
              "  const pickedPromise = new Promise((resolve) => {\n",
              "    inputElement.addEventListener('change', (e) => {\n",
              "      resolve(e.target.files);\n",
              "    });\n",
              "  });\n",
              "\n",
              "  const cancel = document.createElement('button');\n",
              "  inputElement.parentElement.appendChild(cancel);\n",
              "  cancel.textContent = 'Cancel upload';\n",
              "  const cancelPromise = new Promise((resolve) => {\n",
              "    cancel.onclick = () => {\n",
              "      resolve(null);\n",
              "    };\n",
              "  });\n",
              "\n",
              "  // Wait for the user to pick the files.\n",
              "  const files = yield {\n",
              "    promise: Promise.race([pickedPromise, cancelPromise]),\n",
              "    response: {\n",
              "      action: 'starting',\n",
              "    }\n",
              "  };\n",
              "\n",
              "  cancel.remove();\n",
              "\n",
              "  // Disable the input element since further picks are not allowed.\n",
              "  inputElement.disabled = true;\n",
              "\n",
              "  if (!files) {\n",
              "    return {\n",
              "      response: {\n",
              "        action: 'complete',\n",
              "      }\n",
              "    };\n",
              "  }\n",
              "\n",
              "  for (const file of files) {\n",
              "    const li = document.createElement('li');\n",
              "    li.append(span(file.name, {fontWeight: 'bold'}));\n",
              "    li.append(span(\n",
              "        `(${file.type || 'n/a'}) - ${file.size} bytes, ` +\n",
              "        `last modified: ${\n",
              "            file.lastModifiedDate ? file.lastModifiedDate.toLocaleDateString() :\n",
              "                                    'n/a'} - `));\n",
              "    const percent = span('0% done');\n",
              "    li.appendChild(percent);\n",
              "\n",
              "    outputElement.appendChild(li);\n",
              "\n",
              "    const fileDataPromise = new Promise((resolve) => {\n",
              "      const reader = new FileReader();\n",
              "      reader.onload = (e) => {\n",
              "        resolve(e.target.result);\n",
              "      };\n",
              "      reader.readAsArrayBuffer(file);\n",
              "    });\n",
              "    // Wait for the data to be ready.\n",
              "    let fileData = yield {\n",
              "      promise: fileDataPromise,\n",
              "      response: {\n",
              "        action: 'continue',\n",
              "      }\n",
              "    };\n",
              "\n",
              "    // Use a chunked sending to avoid message size limits. See b/62115660.\n",
              "    let position = 0;\n",
              "    do {\n",
              "      const length = Math.min(fileData.byteLength - position, MAX_PAYLOAD_SIZE);\n",
              "      const chunk = new Uint8Array(fileData, position, length);\n",
              "      position += length;\n",
              "\n",
              "      const base64 = btoa(String.fromCharCode.apply(null, chunk));\n",
              "      yield {\n",
              "        response: {\n",
              "          action: 'append',\n",
              "          file: file.name,\n",
              "          data: base64,\n",
              "        },\n",
              "      };\n",
              "\n",
              "      let percentDone = fileData.byteLength === 0 ?\n",
              "          100 :\n",
              "          Math.round((position / fileData.byteLength) * 100);\n",
              "      percent.textContent = `${percentDone}% done`;\n",
              "\n",
              "    } while (position < fileData.byteLength);\n",
              "  }\n",
              "\n",
              "  // All done.\n",
              "  yield {\n",
              "    response: {\n",
              "      action: 'complete',\n",
              "    }\n",
              "  };\n",
              "}\n",
              "\n",
              "scope.google = scope.google || {};\n",
              "scope.google.colab = scope.google.colab || {};\n",
              "scope.google.colab._files = {\n",
              "  _uploadFiles,\n",
              "  _uploadFilesContinue,\n",
              "};\n",
              "})(self);\n",
              "</script> "
            ]
          },
          "metadata": {}
        }
      ]
    },
    {
      "cell_type": "code",
      "source": [
        "# .ipynb檔轉換成.html檔\n",
        "!jupyter nbconvert --to html *.ipynb"
      ],
      "metadata": {
        "id": "_8bwDcuMgSij"
      },
      "execution_count": null,
      "outputs": []
    },
    {
      "cell_type": "code",
      "source": [],
      "metadata": {
        "id": "zRMdtf4VgS1o"
      },
      "execution_count": null,
      "outputs": []
    }
  ]
}